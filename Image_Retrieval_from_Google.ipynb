{
  "nbformat": 4,
  "nbformat_minor": 0,
  "metadata": {
    "colab": {
      "name": "Image Retrieval from Google.ipynb",
      "version": "0.3.2",
      "provenance": [],
      "toc_visible": true,
      "include_colab_link": true
    },
    "kernelspec": {
      "name": "python3",
      "display_name": "Python 3"
    }
  },
  "cells": [
    {
      "cell_type": "markdown",
      "metadata": {
        "id": "view-in-github",
        "colab_type": "text"
      },
      "source": [
        "<a href=\"https://colab.research.google.com/github/twishajain/MachineLearning/blob/master/Image_Retrieval_from_Google.ipynb\" target=\"_parent\"><img src=\"https://colab.research.google.com/assets/colab-badge.svg\" alt=\"Open In Colab\"/></a>"
      ]
    },
    {
      "cell_type": "markdown",
      "metadata": {
        "id": "2vny17Ce7ESg",
        "colab_type": "text"
      },
      "source": [
        "#Retrieve Images for Dataset from Google and store to Drive\n",
        "\n",
        "**Reference: https://www.pyimagesearch.com/2017/12/04/how-to-create-a-deep-learning-dataset-using-google-images/**\n",
        "\n",
        "**Edited to work on google colab**\n",
        "\n",
        "\n",
        "Load the required google images on your web browser.\n",
        "\n",
        "Go to java console and type the following code.\n",
        "\n",
        "// pull down jquery into the JavaScript console\n",
        "\n",
        "var script = document.createElement('script');\n",
        "\n",
        "script.src = \"https://ajax.googleapis.com/ajax/libs/jquery/2.2.0/jquery.min.js\";\n",
        "\n",
        "document.getElementsByTagName('head')[0].appendChild(script);\n",
        "\n",
        "// grab the URLs\n",
        "\n",
        "var urls = $('.rg_di .rg_meta').map(function() { return JSON.parse($(this).text()).ou; });\n",
        "\n",
        "// write the URls to file (one per line)\n",
        "\n",
        "var textToSave = urls.toArray().join('\\n');\n",
        "\n",
        "var hiddenElement = document.createElement('a');\n",
        "\n",
        "hiddenElement.href = 'data:attachment/text,' + encodeURI(textToSave);\n",
        "\n",
        "hiddenElement.target = '_blank';\n",
        "\n",
        "hiddenElement.download = 'urls.txt';\n",
        "\n",
        "hiddenElement.click();\n",
        "\n",
        "A urls.txt file will be saved to Downloads folder. This file contains the urls of all the loaded images.\n",
        "\n",
        "\n",
        "\n",
        "\n"
      ]
    },
    {
      "cell_type": "code",
      "metadata": {
        "id": "_8qTmaD69C8H",
        "colab_type": "code",
        "outputId": "61d87069-33a0-42b5-ac00-cbe99a1c28a3",
        "colab": {
          "base_uri": "https://localhost:8080/",
          "height": 122
        }
      },
      "source": [
        "!pip install requests"
      ],
      "execution_count": 0,
      "outputs": [
        {
          "output_type": "stream",
          "text": [
            "Requirement already satisfied: requests in /usr/local/lib/python3.6/dist-packages (2.21.0)\n",
            "Requirement already satisfied: idna<2.9,>=2.5 in /usr/local/lib/python3.6/dist-packages (from requests) (2.8)\n",
            "Requirement already satisfied: certifi>=2017.4.17 in /usr/local/lib/python3.6/dist-packages (from requests) (2019.6.16)\n",
            "Requirement already satisfied: chardet<3.1.0,>=3.0.2 in /usr/local/lib/python3.6/dist-packages (from requests) (3.0.4)\n",
            "Requirement already satisfied: urllib3<1.25,>=1.21.1 in /usr/local/lib/python3.6/dist-packages (from requests) (1.24.3)\n"
          ],
          "name": "stdout"
        }
      ]
    },
    {
      "cell_type": "markdown",
      "metadata": {
        "id": "m8SuD8FT9--q",
        "colab_type": "text"
      },
      "source": [
        "Mount your google drive to your colab notebook."
      ]
    },
    {
      "cell_type": "code",
      "metadata": {
        "id": "dUXOT9VF-ReO",
        "colab_type": "code",
        "outputId": "876221b3-40db-45d0-beb5-76851cf78164",
        "colab": {
          "base_uri": "https://localhost:8080/",
          "height": 122
        }
      },
      "source": [
        "from google.colab import drive\n",
        "drive.mount('/content/drive')"
      ],
      "execution_count": 0,
      "outputs": [
        {
          "output_type": "stream",
          "text": [
            "Go to this URL in a browser: https://accounts.google.com/o/oauth2/auth?client_id=947318989803-6bn6qk8qdgf4n4g3pfee6491hc0brc4i.apps.googleusercontent.com&redirect_uri=urn%3Aietf%3Awg%3Aoauth%3A2.0%3Aoob&scope=email%20https%3A%2F%2Fwww.googleapis.com%2Fauth%2Fdocs.test%20https%3A%2F%2Fwww.googleapis.com%2Fauth%2Fdrive%20https%3A%2F%2Fwww.googleapis.com%2Fauth%2Fdrive.photos.readonly%20https%3A%2F%2Fwww.googleapis.com%2Fauth%2Fpeopleapi.readonly&response_type=code\n",
            "\n",
            "Enter your authorization code:\n",
            "··········\n",
            "Mounted at /content/drive\n"
          ],
          "name": "stdout"
        }
      ]
    },
    {
      "cell_type": "markdown",
      "metadata": {
        "id": "y-GG9LRKEKMO",
        "colab_type": "text"
      },
      "source": [
        "Upload your file named urls.txt which contains the urls to all the images to be downloaded."
      ]
    },
    {
      "cell_type": "code",
      "metadata": {
        "id": "F4PmqdKm_klO",
        "colab_type": "code",
        "colab": {}
      },
      "source": [
        "from google.colab import files\n",
        "uploaded = files.upload()\n"
      ],
      "execution_count": 0,
      "outputs": []
    },
    {
      "cell_type": "markdown",
      "metadata": {
        "id": "bx-Hbxi2EgWD",
        "colab_type": "text"
      },
      "source": [
        "Set the root_path in the below code to the location of the folder in your drive to which you wish to save the dataset."
      ]
    },
    {
      "cell_type": "code",
      "metadata": {
        "id": "7Kfq1byXBI7a",
        "colab_type": "code",
        "outputId": "a9d94a2c-7c91-4073-f088-5ac2da63de6c",
        "colab": {
          "base_uri": "https://localhost:8080/",
          "height": 1000
        }
      },
      "source": [
        "# import the necessary packages\n",
        "from imutils import paths\n",
        "import argparse\n",
        "import requests\n",
        "import cv2\n",
        "import os\n",
        "\n",
        "\n",
        "# grab the list of URLs from the input file, then initialize the\n",
        "# total number of images downloaded thus far\n",
        "urls=\"urls.txt\"\n",
        "rows = open(urls).read().strip().split(\"\\n\")\n",
        "total = 0\n",
        "# loop the URLs\n",
        "for url in rows:\n",
        "    try:\n",
        "        # try to download the image\n",
        "        r = requests.get(url, timeout=60)\n",
        "        \n",
        "        # save the image to disk\n",
        "        root_path = 'drive/My Drive/Images_Dataset/'\n",
        "        p = os.path.sep.join([root_path, \"{}.jpg\".format(str(total).zfill(8))])\n",
        "        f = open(p, \"wb\")\n",
        "        f.write(r.content)\n",
        "        f.close()\n",
        "                    \n",
        "        # update the counter\n",
        "        print(\"[INFO] downloaded: {}\".format(p))\n",
        "        total += 1\n",
        "\n",
        "# handle if any exceptions are thrown during the download process\n",
        "    except:\n",
        "        print(\"[INFO] error downloading {}...skipping\".format(p))\n",
        "# loop over the image paths we just downloaded\n",
        "for imagePath in paths.list_images(args[\"output\"]):\n",
        "    # initialize if the image should be deleted or not\n",
        "    delete = False\n",
        "    \n",
        "    # try to load the image\n",
        "    try:\n",
        "        image = cv2.imread(imagePath)\n",
        "        \n",
        "        # if the image is `None` then we could not properly load it\n",
        "        # from disk, so delete it\n",
        "        if image is None:\n",
        "            delete = True\n",
        "\n",
        "# if OpenCV cannot load the image then the image is likely\n",
        "# corrupt so we should delete it\n",
        "    except:\n",
        "        print(\"Except\")\n",
        "        delete = True\n",
        "    \n",
        "    # check to see if the image should be deleted\n",
        "    if delete:\n",
        "        print(\"[INFO] deleting {}\".format(imagePath))\n",
        "        os.remove(imagePath)\n",
        "\n"
      ],
      "execution_count": 0,
      "outputs": [
        {
          "output_type": "stream",
          "text": [
            "[INFO] downloaded: drive/My Drive/Images_Dataset//00000000.jpg\n",
            "[INFO] downloaded: drive/My Drive/Images_Dataset//00000001.jpg\n",
            "[INFO] downloaded: drive/My Drive/Images_Dataset//00000002.jpg\n",
            "[INFO] downloaded: drive/My Drive/Images_Dataset//00000003.jpg\n",
            "[INFO] error downloading drive/My Drive/Images_Dataset//00000003.jpg...skipping\n",
            "[INFO] downloaded: drive/My Drive/Images_Dataset//00000004.jpg\n",
            "[INFO] downloaded: drive/My Drive/Images_Dataset//00000005.jpg\n",
            "[INFO] downloaded: drive/My Drive/Images_Dataset//00000006.jpg\n",
            "[INFO] downloaded: drive/My Drive/Images_Dataset//00000007.jpg\n",
            "[INFO] downloaded: drive/My Drive/Images_Dataset//00000008.jpg\n",
            "[INFO] downloaded: drive/My Drive/Images_Dataset//00000009.jpg\n",
            "[INFO] downloaded: drive/My Drive/Images_Dataset//00000010.jpg\n",
            "[INFO] downloaded: drive/My Drive/Images_Dataset//00000011.jpg\n",
            "[INFO] downloaded: drive/My Drive/Images_Dataset//00000012.jpg\n",
            "[INFO] downloaded: drive/My Drive/Images_Dataset//00000013.jpg\n",
            "[INFO] downloaded: drive/My Drive/Images_Dataset//00000014.jpg\n",
            "[INFO] downloaded: drive/My Drive/Images_Dataset//00000015.jpg\n",
            "[INFO] downloaded: drive/My Drive/Images_Dataset//00000016.jpg\n",
            "[INFO] error downloading drive/My Drive/Images_Dataset//00000016.jpg...skipping\n",
            "[INFO] downloaded: drive/My Drive/Images_Dataset//00000017.jpg\n",
            "[INFO] downloaded: drive/My Drive/Images_Dataset//00000018.jpg\n",
            "[INFO] downloaded: drive/My Drive/Images_Dataset//00000019.jpg\n",
            "[INFO] downloaded: drive/My Drive/Images_Dataset//00000020.jpg\n",
            "[INFO] downloaded: drive/My Drive/Images_Dataset//00000021.jpg\n",
            "[INFO] downloaded: drive/My Drive/Images_Dataset//00000022.jpg\n",
            "[INFO] downloaded: drive/My Drive/Images_Dataset//00000023.jpg\n",
            "[INFO] downloaded: drive/My Drive/Images_Dataset//00000024.jpg\n",
            "[INFO] downloaded: drive/My Drive/Images_Dataset//00000025.jpg\n",
            "[INFO] downloaded: drive/My Drive/Images_Dataset//00000026.jpg\n",
            "[INFO] downloaded: drive/My Drive/Images_Dataset//00000027.jpg\n",
            "[INFO] downloaded: drive/My Drive/Images_Dataset//00000028.jpg\n",
            "[INFO] downloaded: drive/My Drive/Images_Dataset//00000029.jpg\n",
            "[INFO] downloaded: drive/My Drive/Images_Dataset//00000030.jpg\n",
            "[INFO] downloaded: drive/My Drive/Images_Dataset//00000031.jpg\n",
            "[INFO] downloaded: drive/My Drive/Images_Dataset//00000032.jpg\n",
            "[INFO] downloaded: drive/My Drive/Images_Dataset//00000033.jpg\n",
            "[INFO] downloaded: drive/My Drive/Images_Dataset//00000034.jpg\n",
            "[INFO] downloaded: drive/My Drive/Images_Dataset//00000035.jpg\n",
            "[INFO] downloaded: drive/My Drive/Images_Dataset//00000036.jpg\n",
            "[INFO] downloaded: drive/My Drive/Images_Dataset//00000037.jpg\n",
            "[INFO] downloaded: drive/My Drive/Images_Dataset//00000038.jpg\n",
            "[INFO] downloaded: drive/My Drive/Images_Dataset//00000039.jpg\n",
            "[INFO] downloaded: drive/My Drive/Images_Dataset//00000040.jpg\n",
            "[INFO] downloaded: drive/My Drive/Images_Dataset//00000041.jpg\n",
            "[INFO] downloaded: drive/My Drive/Images_Dataset//00000042.jpg\n",
            "[INFO] downloaded: drive/My Drive/Images_Dataset//00000043.jpg\n",
            "[INFO] downloaded: drive/My Drive/Images_Dataset//00000044.jpg\n",
            "[INFO] downloaded: drive/My Drive/Images_Dataset//00000045.jpg\n",
            "[INFO] downloaded: drive/My Drive/Images_Dataset//00000046.jpg\n",
            "[INFO] downloaded: drive/My Drive/Images_Dataset//00000047.jpg\n",
            "[INFO] downloaded: drive/My Drive/Images_Dataset//00000048.jpg\n",
            "[INFO] downloaded: drive/My Drive/Images_Dataset//00000049.jpg\n",
            "[INFO] downloaded: drive/My Drive/Images_Dataset//00000050.jpg\n",
            "[INFO] downloaded: drive/My Drive/Images_Dataset//00000051.jpg\n",
            "[INFO] downloaded: drive/My Drive/Images_Dataset//00000052.jpg\n",
            "[INFO] downloaded: drive/My Drive/Images_Dataset//00000053.jpg\n",
            "[INFO] downloaded: drive/My Drive/Images_Dataset//00000054.jpg\n",
            "[INFO] downloaded: drive/My Drive/Images_Dataset//00000055.jpg\n",
            "[INFO] downloaded: drive/My Drive/Images_Dataset//00000056.jpg\n",
            "[INFO] downloaded: drive/My Drive/Images_Dataset//00000057.jpg\n",
            "[INFO] downloaded: drive/My Drive/Images_Dataset//00000058.jpg\n",
            "[INFO] downloaded: drive/My Drive/Images_Dataset//00000059.jpg\n",
            "[INFO] downloaded: drive/My Drive/Images_Dataset//00000060.jpg\n",
            "[INFO] downloaded: drive/My Drive/Images_Dataset//00000061.jpg\n",
            "[INFO] downloaded: drive/My Drive/Images_Dataset//00000062.jpg\n",
            "[INFO] downloaded: drive/My Drive/Images_Dataset//00000063.jpg\n",
            "[INFO] downloaded: drive/My Drive/Images_Dataset//00000064.jpg\n",
            "[INFO] downloaded: drive/My Drive/Images_Dataset//00000065.jpg\n",
            "[INFO] downloaded: drive/My Drive/Images_Dataset//00000066.jpg\n",
            "[INFO] downloaded: drive/My Drive/Images_Dataset//00000067.jpg\n",
            "[INFO] downloaded: drive/My Drive/Images_Dataset//00000068.jpg\n",
            "[INFO] downloaded: drive/My Drive/Images_Dataset//00000069.jpg\n",
            "[INFO] error downloading drive/My Drive/Images_Dataset//00000069.jpg...skipping\n",
            "[INFO] downloaded: drive/My Drive/Images_Dataset//00000070.jpg\n",
            "[INFO] downloaded: drive/My Drive/Images_Dataset//00000071.jpg\n",
            "[INFO] downloaded: drive/My Drive/Images_Dataset//00000072.jpg\n",
            "[INFO] downloaded: drive/My Drive/Images_Dataset//00000073.jpg\n",
            "[INFO] downloaded: drive/My Drive/Images_Dataset//00000074.jpg\n",
            "[INFO] downloaded: drive/My Drive/Images_Dataset//00000075.jpg\n",
            "[INFO] downloaded: drive/My Drive/Images_Dataset//00000076.jpg\n"
          ],
          "name": "stdout"
        }
      ]
    }
  ]
}